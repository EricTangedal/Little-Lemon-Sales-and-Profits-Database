{
 "cells": [
  {
   "cell_type": "code",
   "execution_count": 1,
   "id": "70ef0e2f-d965-465f-882d-f5ea38aa9a83",
   "metadata": {},
   "outputs": [
    {
     "name": "stdout",
     "output_type": "stream",
     "text": [
      "Collecting mysql-connector-python\n",
      "  Downloading mysql_connector_python-9.0.0-cp312-cp312-win_amd64.whl.metadata (2.0 kB)\n",
      "Downloading mysql_connector_python-9.0.0-cp312-cp312-win_amd64.whl (14.3 MB)\n",
      "   ---------------------------------------- 0.0/14.3 MB ? eta -:--:--\n",
      "    --------------------------------------- 0.2/14.3 MB 6.9 MB/s eta 0:00:03\n",
      "   --- ------------------------------------ 1.4/14.3 MB 17.6 MB/s eta 0:00:01\n",
      "   ---------------- ----------------------- 6.0/14.3 MB 47.8 MB/s eta 0:00:01\n",
      "   ---------------------- ----------------- 8.1/14.3 MB 51.7 MB/s eta 0:00:01\n",
      "   -------------------------------------- - 13.9/14.3 MB 93.0 MB/s eta 0:00:01\n",
      "   ---------------------------------------- 14.3/14.3 MB 72.5 MB/s eta 0:00:00\n",
      "Installing collected packages: mysql-connector-python\n",
      "Successfully installed mysql-connector-python-9.0.0\n"
     ]
    }
   ],
   "source": [
    "!pip install mysql-connector-python"
   ]
  },
  {
   "cell_type": "code",
   "execution_count": 1,
   "id": "36411e4f-6def-46de-8e0f-86cdbb18fff4",
   "metadata": {},
   "outputs": [],
   "source": [
    "import mysql.connector as connector\n",
    "\n",
    "connection = connector.connect(user = \"admin\", password = \"pass\")"
   ]
  },
  {
   "cell_type": "code",
   "execution_count": 2,
   "id": "31fa0ab9-48d8-4d09-9d6f-619dadaec48f",
   "metadata": {},
   "outputs": [],
   "source": [
    "connection = connector.connect(user = \"admin\", password = \"pass\", db = \"littlelemondb\") "
   ]
  },
  {
   "cell_type": "code",
   "execution_count": 3,
   "id": "751b79b9-6530-473a-8a91-ac426e207792",
   "metadata": {},
   "outputs": [],
   "source": [
    "cursor = connection.cursor()"
   ]
  },
  {
   "cell_type": "code",
   "execution_count": 4,
   "id": "21300de0-36d6-422a-8c03-08012015543a",
   "metadata": {},
   "outputs": [],
   "source": [
    "show_tables_query = \"SHOW tables\" \n",
    "cursor.execute(show_tables_query)"
   ]
  },
  {
   "cell_type": "code",
   "execution_count": 5,
   "id": "65d140a5-b940-4d83-ba20-4e0010a7f647",
   "metadata": {},
   "outputs": [],
   "source": [
    "results = cursor.fetchall()"
   ]
  },
  {
   "cell_type": "code",
   "execution_count": 6,
   "id": "8ec7695b-f368-4bb6-a010-f8e6292402d8",
   "metadata": {},
   "outputs": [
    {
     "name": "stdout",
     "output_type": "stream",
     "text": [
      "[('bookings',), ('customerdetails',), ('menuitems',), ('menus',), ('orderdeliverystatus',), ('orders',), ('ordersview',), ('staffinformation',)]\n"
     ]
    }
   ],
   "source": [
    "print(results)"
   ]
  },
  {
   "cell_type": "code",
   "execution_count": 7,
   "id": "8035db29-17b1-4201-be33-3f3c016e21bd",
   "metadata": {},
   "outputs": [
    {
     "name": "stdout",
     "output_type": "stream",
     "text": [
      "('TotalCost', 'CustomerName', 'ContactNumber', 'Email')\n",
      "(Decimal('343.52'), 'Marcos Romero', '7893457384', 'bigchonker@yahoo.com')\n",
      "(Decimal('205.67'), 'Ron Howard', '5734857227', 'ronhoward@gmail.com')\n",
      "(Decimal('70.54'), 'Vanessa McCarthy', '8053456345', 'vmccarthy@gmail.com')\n"
     ]
    }
   ],
   "source": [
    "query =  \"\"\"SELECT orders.TotalCost, customerdetails.CustomerName, customerdetails.ContactNumber, customerdetails.Email\n",
    "FROM orders\n",
    "INNER JOIN customerdetails\n",
    "ON orders.BookingID = customerdetails.CustomerID\n",
    "WHERE TotalCost > 60\n",
    "ORDER BY TotalCost desc;\n",
    "\"\"\"\n",
    "cursor.execute(query)\n",
    "results = cursor.fetchall()\n",
    "columns = cursor.column_names\n",
    "print(columns)\n",
    "for result in results:\n",
    "    print(result)"
   ]
  },
  {
   "cell_type": "code",
   "execution_count": null,
   "id": "ba1dcc53-ec98-4e3a-a740-4989240ddf2e",
   "metadata": {},
   "outputs": [],
   "source": []
  }
 ],
 "metadata": {
  "kernelspec": {
   "display_name": "Python 3 (ipykernel)",
   "language": "python",
   "name": "python3"
  },
  "language_info": {
   "codemirror_mode": {
    "name": "ipython",
    "version": 3
   },
   "file_extension": ".py",
   "mimetype": "text/x-python",
   "name": "python",
   "nbconvert_exporter": "python",
   "pygments_lexer": "ipython3",
   "version": "3.12.4"
  }
 },
 "nbformat": 4,
 "nbformat_minor": 5
}
